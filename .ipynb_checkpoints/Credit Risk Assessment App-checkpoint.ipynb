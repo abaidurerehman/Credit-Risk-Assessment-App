{
 "cells": [
  {
   "cell_type": "code",
   "execution_count": 1,
   "id": "7909618d-f2d8-4459-a948-2fd966985cc1",
   "metadata": {},
   "outputs": [
    {
     "name": "stdout",
     "output_type": "stream",
     "text": [
      "Requirement already satisfied: pandas in e:\\anaconda3\\lib\\site-packages (2.2.2)\n",
      "Requirement already satisfied: numpy in e:\\anaconda3\\lib\\site-packages (1.26.4)\n",
      "Requirement already satisfied: matplotlib in e:\\anaconda3\\lib\\site-packages (3.8.4)\n",
      "Requirement already satisfied: seaborn in e:\\anaconda3\\lib\\site-packages (0.13.2)\n",
      "Requirement already satisfied: scikit-learn in e:\\anaconda3\\lib\\site-packages (1.6.1)\n",
      "Requirement already satisfied: imbalanced-learn in e:\\anaconda3\\lib\\site-packages (0.12.3)\n",
      "Requirement already satisfied: xgboost in e:\\anaconda3\\lib\\site-packages (2.1.3)\n",
      "Requirement already satisfied: python-dateutil>=2.8.2 in e:\\anaconda3\\lib\\site-packages (from pandas) (2.9.0.post0)\n",
      "Requirement already satisfied: pytz>=2020.1 in e:\\anaconda3\\lib\\site-packages (from pandas) (2024.1)\n",
      "Requirement already satisfied: tzdata>=2022.7 in e:\\anaconda3\\lib\\site-packages (from pandas) (2023.3)\n",
      "Requirement already satisfied: contourpy>=1.0.1 in e:\\anaconda3\\lib\\site-packages (from matplotlib) (1.2.0)\n",
      "Requirement already satisfied: cycler>=0.10 in e:\\anaconda3\\lib\\site-packages (from matplotlib) (0.11.0)\n",
      "Requirement already satisfied: fonttools>=4.22.0 in e:\\anaconda3\\lib\\site-packages (from matplotlib) (4.51.0)\n",
      "Requirement already satisfied: kiwisolver>=1.3.1 in e:\\anaconda3\\lib\\site-packages (from matplotlib) (1.4.4)\n",
      "Requirement already satisfied: packaging>=20.0 in e:\\anaconda3\\lib\\site-packages (from matplotlib) (23.2)\n",
      "Requirement already satisfied: pillow>=8 in e:\\anaconda3\\lib\\site-packages (from matplotlib) (10.3.0)\n",
      "Requirement already satisfied: pyparsing>=2.3.1 in e:\\anaconda3\\lib\\site-packages (from matplotlib) (3.0.9)\n",
      "Requirement already satisfied: scipy>=1.6.0 in e:\\anaconda3\\lib\\site-packages (from scikit-learn) (1.13.1)\n",
      "Requirement already satisfied: joblib>=1.2.0 in e:\\anaconda3\\lib\\site-packages (from scikit-learn) (1.4.2)\n",
      "Requirement already satisfied: threadpoolctl>=3.1.0 in e:\\anaconda3\\lib\\site-packages (from scikit-learn) (3.6.0)\n",
      "Requirement already satisfied: six>=1.5 in e:\\anaconda3\\lib\\site-packages (from python-dateutil>=2.8.2->pandas) (1.16.0)\n"
     ]
    }
   ],
   "source": [
    "!pip install pandas numpy matplotlib seaborn scikit-learn imbalanced-learn xgboost"
   ]
  },
  {
   "cell_type": "code",
   "execution_count": 2,
   "id": "cb5360cd-9025-483f-a233-7441d354e4a6",
   "metadata": {},
   "outputs": [],
   "source": [
    "#Import Libraries\n",
    "import pandas as pd\n",
    "import numpy as np\n",
    "import matplotlib.pyplot as plt\n",
    "import seaborn as sns\n",
    "\n",
    "from sklearn.model_selection import train_test_split\n",
    "from sklearn.preprocessing import StandardScaler\n",
    "from sklearn.ensemble import RandomForestClassifier\n",
    "from xgboost import XGBClassifier\n",
    "from sklearn.metrics import classification_report, confusion_matrix, roc_auc_score, roc_curve\n",
    "from imblearn.over_sampling import SMOTE"
   ]
  },
  {
   "cell_type": "code",
   "execution_count": 3,
   "id": "ef0a3341-96ce-4b2f-8f29-cab326172424",
   "metadata": {},
   "outputs": [
    {
     "name": "stdout",
     "output_type": "stream",
     "text": [
      "Dataset Preview:\n",
      "   Unnamed: 0  SeriousDlqin2yrs  RevolvingUtilizationOfUnsecuredLines  age  \\\n",
      "0           1                 1                              0.766127   45   \n",
      "1           2                 0                              0.957151   40   \n",
      "2           3                 0                              0.658180   38   \n",
      "3           4                 0                              0.233810   30   \n",
      "4           5                 0                              0.907239   49   \n",
      "\n",
      "   NumberOfTime30-59DaysPastDueNotWorse  DebtRatio  MonthlyIncome  \\\n",
      "0                                     2   0.802982         9120.0   \n",
      "1                                     0   0.121876         2600.0   \n",
      "2                                     1   0.085113         3042.0   \n",
      "3                                     0   0.036050         3300.0   \n",
      "4                                     1   0.024926        63588.0   \n",
      "\n",
      "   NumberOfOpenCreditLinesAndLoans  NumberOfTimes90DaysLate  \\\n",
      "0                               13                        0   \n",
      "1                                4                        0   \n",
      "2                                2                        1   \n",
      "3                                5                        0   \n",
      "4                                7                        0   \n",
      "\n",
      "   NumberRealEstateLoansOrLines  NumberOfTime60-89DaysPastDueNotWorse  \\\n",
      "0                             6                                     0   \n",
      "1                             0                                     0   \n",
      "2                             0                                     0   \n",
      "3                             0                                     0   \n",
      "4                             1                                     0   \n",
      "\n",
      "   NumberOfDependents  \n",
      "0                 2.0  \n",
      "1                 1.0  \n",
      "2                 0.0  \n",
      "3                 0.0  \n",
      "4                 0.0  \n"
     ]
    }
   ],
   "source": [
    "#Load Dataset\n",
    "df = pd.read_csv(\"cs-training.csv\") \n",
    "\n",
    "# Display first few rows\n",
    "print(\"Dataset Preview:\")\n",
    "print(df.head())"
   ]
  },
  {
   "cell_type": "code",
   "execution_count": 4,
   "id": "5b0e3b33-5088-4667-b4f1-fe2e9acd3d78",
   "metadata": {},
   "outputs": [],
   "source": [
    "#Data Preprocessing\n",
    "df.drop(columns=['Unnamed: 0'], inplace=True, errors='ignore')\n",
    "\n",
    "# Rename target variable for clarity\n",
    "df.rename(columns={'SeriousDlqin2yrs': 'target'}, inplace=True)\n",
    "\n",
    "# Handle missing values\n",
    "df['MonthlyIncome'] = df['MonthlyIncome'].fillna(df['MonthlyIncome'].median())\n",
    "df['NumberOfDependents'] = df['NumberOfDependents'].fillna(df['NumberOfDependents'].mode()[0])\n",
    "\n"
   ]
  },
  {
   "cell_type": "code",
   "execution_count": 5,
   "id": "274eb306-1268-4dec-9075-85e5b1227fb5",
   "metadata": {},
   "outputs": [
    {
     "data": {
      "image/png": "[encoded data removed]",
      "text/plain": [
       "<Figure size 640x480 with 1 Axes>"
      ]
     },
     "metadata": {},
     "output_type": "display_data"
    }
   ],
   "source": [
    "# Exploratory Data Analysis\n",
    "sns.countplot(data=df, x='target')\n",
    "plt.title(\"Class Distribution\")\n",
    "plt.xlabel(\"Credit Risk (0 = Low, 1 = High)\")\n",
    "plt.ylabel(\"Count\")\n",
    "plt.show()"
   ]
  },
  {
   "cell_type": "code",
   "execution_count": 6,
   "id": "a012ef58-be35-47ec-acb6-92900474cfb9",
   "metadata": {},
   "outputs": [],
   "source": [
    "#Feature Selection and Splitting\n",
    "X = df.drop('target', axis=1)\n",
    "y = df['target']\n",
    "\n",
    "# Train-test split\n",
    "X_train, X_test, y_train, y_test = train_test_split(X, y, stratify=y, test_size=0.2, random_state=42)"
   ]
  },
  {
   "cell_type": "code",
   "execution_count": 7,
   "id": "81c2691e-3b23-474c-b00b-ad2a0838b2bd",
   "metadata": {},
   "outputs": [],
   "source": [
    "#Feature Scaling\n",
    "scaler = StandardScaler()\n",
    "X_train_scaled = scaler.fit_transform(X_train)\n",
    "X_test_scaled = scaler.transform(X_test)"
   ]
  },
  {
   "cell_type": "code",
   "execution_count": 8,
   "id": "1869e7a3-38d4-4693-8d15-e50bec098fda",
   "metadata": {},
   "outputs": [
    {
     "name": "stderr",
     "output_type": "stream",
     "text": [
      "E:\\Anaconda3\\Lib\\site-packages\\sklearn\\base.py:474: FutureWarning: `BaseEstimator._validate_data` is deprecated in 1.6 and will be removed in 1.7. Use `sklearn.utils.validation.validate_data` instead. This function becomes public and is part of the scikit-learn developer API.\n",
      "  warnings.warn(\n"
     ]
    }
   ],
   "source": [
    "#Handle Imbalanced Data with SMOTE\n",
    "smote = SMOTE(random_state=42)\n",
    "X_train_smote, y_train_smote = smote.fit_resample(X_train_scaled, y_train)"
   ]
  },
  {
   "cell_type": "code",
   "execution_count": 9,
   "id": "18b3b13b-fa7f-41b9-ac41-ea12c2cacf82",
   "metadata": {},
   "outputs": [],
   "source": [
    "#Model Training\n",
    "# Random Forest Classifier\n",
    "rf_model = RandomForestClassifier(random_state=42)\n",
    "rf_model.fit(X_train_smote, y_train_smote)\n",
    "y_pred_rf = rf_model.predict(X_test_scaled)\n",
    "\n",
    "# XGBoost Classifier\n",
    "xgb_model = XGBClassifier(eval_metric='logloss', random_state=42)\n",
    "\n",
    "xgb_model.fit(X_train_smote, y_train_smote)\n",
    "y_pred_xgb = xgb_model.predict(X_test_scaled)"
   ]
  },
  {
   "cell_type": "code",
   "execution_count": 10,
   "id": "b18d1777-6113-4c36-b581-efb0c4723824",
   "metadata": {},
   "outputs": [
    {
     "name": "stdout",
     "output_type": "stream",
     "text": [
      "\n",
      "Evaluation Results: Random Forest\n",
      "Confusion Matrix:\n",
      "[[26777  1218]\n",
      " [ 1317   688]]\n",
      "Classification Report:\n",
      "              precision    recall  f1-score   support\n",
      "\n",
      "           0       0.95      0.96      0.95     27995\n",
      "           1       0.36      0.34      0.35      2005\n",
      "\n",
      "    accuracy                           0.92     30000\n",
      "   macro avg       0.66      0.65      0.65     30000\n",
      "weighted avg       0.91      0.92      0.91     30000\n",
      "\n",
      "ROC AUC Score: 0.6498171876969481\n",
      "\n",
      "Evaluation Results: XGBoost\n",
      "Confusion Matrix:\n",
      "[[27065   930]\n",
      " [ 1384   621]]\n",
      "Classification Report:\n",
      "              precision    recall  f1-score   support\n",
      "\n",
      "           0       0.95      0.97      0.96     27995\n",
      "           1       0.40      0.31      0.35      2005\n",
      "\n",
      "    accuracy                           0.92     30000\n",
      "   macro avg       0.68      0.64      0.65     30000\n",
      "weighted avg       0.91      0.92      0.92     30000\n",
      "\n",
      "ROC AUC Score: 0.6382527339447416\n"
     ]
    }
   ],
   "source": [
    "#Model Evaluation\n",
    "def evaluate_model(y_true, y_pred, model_name):\n",
    "    print(f\"\\nEvaluation Results: {model_name}\")\n",
    "    print(\"Confusion Matrix:\")\n",
    "    print(confusion_matrix(y_true, y_pred))\n",
    "    print(\"Classification Report:\")\n",
    "    print(classification_report(y_true, y_pred))\n",
    "    print(\"ROC AUC Score:\", roc_auc_score(y_true, y_pred))\n",
    "\n",
    "# Evaluate both models\n",
    "evaluate_model(y_test, y_pred_rf, \"Random Forest\")\n",
    "evaluate_model(y_test, y_pred_xgb, \"XGBoost\")\n"
   ]
  },
  {
   "cell_type": "code",
   "execution_count": 11,
   "id": "c8e946e8-7a77-4075-b252-4564516940a7",
   "metadata": {},
   "outputs": [
    {
     "data": {
      "image/png": "[encoded data removed]",
      "text/plain": [
       "<Figure size 800x600 with 1 Axes>"
      ]
     },
     "metadata": {},
     "output_type": "display_data"
    }
   ],
   "source": [
    "#Plot ROC Curve\n",
    "plt.figure(figsize=(8, 6))\n",
    "\n",
    "# Random Forest\n",
    "fpr_rf, tpr_rf, _ = roc_curve(y_test, rf_model.predict_proba(X_test_scaled)[:, 1])\n",
    "plt.plot(fpr_rf, tpr_rf, label='Random Forest')\n",
    "\n",
    "# XGBoost\n",
    "fpr_xgb, tpr_xgb, _ = roc_curve(y_test, xgb_model.predict_proba(X_test_scaled)[:, 1])\n",
    "plt.plot(fpr_xgb, tpr_xgb, label='XGBoost')\n",
    "\n",
    "# Baseline\n",
    "plt.plot([0, 1], [0, 1], 'k--')\n",
    "\n",
    "plt.xlabel('False Positive Rate')\n",
    "plt.ylabel('True Positive Rate')\n",
    "plt.title('ROC Curve')\n",
    "plt.legend()\n",
    "plt.grid(True)\n",
    "plt.tight_layout()\n",
    "plt.show()\n"
   ]
  },
  {
   "cell_type": "code",
   "execution_count": 12,
   "id": "72556f55-17be-4734-819a-cc90071ff920",
   "metadata": {},
   "outputs": [],
   "source": [
    "#FOR INPUT FROM USER..."
   ]
  },
  {
   "cell_type": "code",
   "execution_count": 13,
   "id": "a255e947-1e17-447a-8feb-6205afa60e81",
   "metadata": {},
   "outputs": [
    {
     "name": "stdout",
     "output_type": "stream",
     "text": [
      "Requirement already satisfied: streamlit in e:\\anaconda3\\lib\\site-packages (1.44.1)\n",
      "Requirement already satisfied: pandas in e:\\anaconda3\\lib\\site-packages (2.2.2)\n",
      "Requirement already satisfied: scikit-learn in e:\\anaconda3\\lib\\site-packages (1.6.1)\n",
      "Requirement already satisfied: xgboost in e:\\anaconda3\\lib\\site-packages (2.1.3)\n",
      "Requirement already satisfied: imbalanced-learn in e:\\anaconda3\\lib\\site-packages (0.12.3)\n",
      "Requirement already satisfied: joblib in e:\\anaconda3\\lib\\site-packages (1.4.2)\n",
      "Requirement already satisfied: altair<6,>=4.0 in e:\\anaconda3\\lib\\site-packages (from streamlit) (5.0.1)\n",
      "Requirement already satisfied: blinker<2,>=1.0.0 in e:\\anaconda3\\lib\\site-packages (from streamlit) (1.6.2)\n",
      "Requirement already satisfied: cachetools<6,>=4.0 in e:\\anaconda3\\lib\\site-packages (from streamlit) (5.3.3)\n",
      "Requirement already satisfied: click<9,>=7.0 in e:\\anaconda3\\lib\\site-packages (from streamlit) (8.1.7)\n",
      "Requirement already satisfied: numpy<3,>=1.23 in e:\\anaconda3\\lib\\site-packages (from streamlit) (1.26.4)\n",
      "Requirement already satisfied: packaging<25,>=20 in e:\\anaconda3\\lib\\site-packages (from streamlit) (23.2)\n",
      "Requirement already satisfied: pillow<12,>=7.1.0 in e:\\anaconda3\\lib\\site-packages (from streamlit) (10.3.0)\n",
      "Requirement already satisfied: protobuf<6,>=3.20 in e:\\anaconda3\\lib\\site-packages (from streamlit) (3.20.3)\n",
      "Requirement already satisfied: pyarrow>=7.0 in e:\\anaconda3\\lib\\site-packages (from streamlit) (19.0.1)\n",
      "Requirement already satisfied: requests<3,>=2.27 in e:\\anaconda3\\lib\\site-packages (from streamlit) (2.32.2)\n",
      "Requirement already satisfied: tenacity<10,>=8.1.0 in e:\\anaconda3\\lib\\site-packages (from streamlit) (8.2.2)\n",
      "Requirement already satisfied: toml<2,>=0.10.1 in e:\\anaconda3\\lib\\site-packages (from streamlit) (0.10.2)\n",
      "Requirement already satisfied: typing-extensions<5,>=4.4.0 in e:\\anaconda3\\lib\\site-packages (from streamlit) (4.11.0)\n",
      "Requirement already satisfied: watchdog<7,>=2.1.5 in e:\\anaconda3\\lib\\site-packages (from streamlit) (4.0.1)\n",
      "Requirement already satisfied: gitpython!=3.1.19,<4,>=3.0.7 in e:\\anaconda3\\lib\\site-packages (from streamlit) (3.1.37)\n",
      "Requirement already satisfied: pydeck<1,>=0.8.0b4 in e:\\anaconda3\\lib\\site-packages (from streamlit) (0.8.0b4)\n",
      "Requirement already satisfied: tornado<7,>=6.0.3 in e:\\anaconda3\\lib\\site-packages (from streamlit) (6.4.1)\n",
      "Requirement already satisfied: python-dateutil>=2.8.2 in e:\\anaconda3\\lib\\site-packages (from pandas) (2.9.0.post0)\n",
      "Requirement already satisfied: pytz>=2020.1 in e:\\anaconda3\\lib\\site-packages (from pandas) (2024.1)\n",
      "Requirement already satisfied: tzdata>=2022.7 in e:\\anaconda3\\lib\\site-packages (from pandas) (2023.3)\n",
      "Requirement already satisfied: scipy>=1.6.0 in e:\\anaconda3\\lib\\site-packages (from scikit-learn) (1.13.1)\n",
      "Requirement already satisfied: threadpoolctl>=3.1.0 in e:\\anaconda3\\lib\\site-packages (from scikit-learn) (3.6.0)\n",
      "Requirement already satisfied: jinja2 in e:\\anaconda3\\lib\\site-packages (from altair<6,>=4.0->streamlit) (3.1.4)\n",
      "Requirement already satisfied: jsonschema>=3.0 in e:\\anaconda3\\lib\\site-packages (from altair<6,>=4.0->streamlit) (4.19.2)\n",
      "Requirement already satisfied: toolz in e:\\anaconda3\\lib\\site-packages (from altair<6,>=4.0->streamlit) (0.12.0)\n",
      "Requirement already satisfied: colorama in e:\\anaconda3\\lib\\site-packages (from click<9,>=7.0->streamlit) (0.4.6)\n",
      "Requirement already satisfied: gitdb<5,>=4.0.1 in e:\\anaconda3\\lib\\site-packages (from gitpython!=3.1.19,<4,>=3.0.7->streamlit) (4.0.7)\n",
      "Requirement already satisfied: six>=1.5 in e:\\anaconda3\\lib\\site-packages (from python-dateutil>=2.8.2->pandas) (1.16.0)\n",
      "Requirement already satisfied: charset-normalizer<4,>=2 in e:\\anaconda3\\lib\\site-packages (from requests<3,>=2.27->streamlit) (2.0.4)\n",
      "Requirement already satisfied: idna<4,>=2.5 in e:\\anaconda3\\lib\\site-packages (from requests<3,>=2.27->streamlit) (3.7)\n",
      "Requirement already satisfied: urllib3<3,>=1.21.1 in e:\\anaconda3\\lib\\site-packages (from requests<3,>=2.27->streamlit) (2.2.2)\n",
      "Requirement already satisfied: certifi>=2017.4.17 in e:\\anaconda3\\lib\\site-packages (from requests<3,>=2.27->streamlit) (2025.1.31)\n",
      "Requirement already satisfied: smmap<5,>=3.0.1 in e:\\anaconda3\\lib\\site-packages (from gitdb<5,>=4.0.1->gitpython!=3.1.19,<4,>=3.0.7->streamlit) (4.0.0)\n",
      "Requirement already satisfied: MarkupSafe>=2.0 in e:\\anaconda3\\lib\\site-packages (from jinja2->altair<6,>=4.0->streamlit) (2.1.3)\n",
      "Requirement already satisfied: attrs>=22.2.0 in e:\\anaconda3\\lib\\site-packages (from jsonschema>=3.0->altair<6,>=4.0->streamlit) (23.1.0)\n",
      "Requirement already satisfied: jsonschema-specifications>=2023.03.6 in e:\\anaconda3\\lib\\site-packages (from jsonschema>=3.0->altair<6,>=4.0->streamlit) (2023.7.1)\n",
      "Requirement already satisfied: referencing>=0.28.4 in e:\\anaconda3\\lib\\site-packages (from jsonschema>=3.0->altair<6,>=4.0->streamlit) (0.30.2)\n",
      "Requirement already satisfied: rpds-py>=0.7.1 in e:\\anaconda3\\lib\\site-packages (from jsonschema>=3.0->altair<6,>=4.0->streamlit) (0.10.6)\n"
     ]
    }
   ],
   "source": [
    "!pip install streamlit pandas scikit-learn xgboost imbalanced-learn joblib\n"
   ]
  },
  {
   "cell_type": "code",
   "execution_count": 15,
   "id": "06013408-1a91-4c49-8fb5-b5f6bda0080e",
   "metadata": {},
   "outputs": [
    {
     "name": "stderr",
     "output_type": "stream",
     "text": [
      "E:\\Anaconda3\\Lib\\site-packages\\sklearn\\base.py:474: FutureWarning: `BaseEstimator._validate_data` is deprecated in 1.6 and will be removed in 1.7. Use `sklearn.utils.validation.validate_data` instead. This function becomes public and is part of the scikit-learn developer API.\n",
      "  warnings.warn(\n"
     ]
    },
    {
     "name": "stdout",
     "output_type": "stream",
     "text": [
      "Model and Scaler have been saved successfully!\n"
     ]
    }
   ],
   "source": [
    "# Import necessary libraries\n",
    "import pandas as pd\n",
    "import numpy as np\n",
    "from sklearn.model_selection import train_test_split\n",
    "from sklearn.preprocessing import StandardScaler\n",
    "from xgboost import XGBClassifier\n",
    "from imblearn.over_sampling import SMOTE\n",
    "import joblib\n",
    "\n",
    "# Load Dataset\n",
    "df = pd.read_csv(\"cs-training.csv\", index_col=0)\n",
    "df.rename(columns={'SeriousDlqin2yrs': 'Target'}, inplace=True)\n",
    "\n",
    "# Preprocessing\n",
    "# Fill missing values using the median for MonthlyIncome and NumberOfDependents\n",
    "df.fillna({\n",
    "    'MonthlyIncome': df['MonthlyIncome'].median(),\n",
    "    'NumberOfDependents': df['NumberOfDependents'].median()\n",
    "}, inplace=True)\n",
    "\n",
    "# Define features and target\n",
    "X = df.drop('Target', axis=1)\n",
    "y = df['Target']\n",
    "\n",
    "# Apply SMOTE for handling class imbalance\n",
    "smote = SMOTE(random_state=42)\n",
    "X_resampled, y_resampled = smote.fit_resample(X, y)\n",
    "\n",
    "# Split data into training and test sets\n",
    "X_train, X_test, y_train, y_test = train_test_split(X_resampled, y_resampled, test_size=0.3, random_state=42)\n",
    "\n",
    "# Scale the features\n",
    "scaler = StandardScaler()\n",
    "X_train_scaled = scaler.fit_transform(X_train)\n",
    "X_test_scaled = scaler.transform(X_test)\n",
    "\n",
    "# Train the XGBoost Model\n",
    "model = XGBClassifier(random_state=42, eval_metric='logloss')\n",
    "model.fit(X_train_scaled, y_train)\n",
    "\n",
    "# Save the trained model and scaler\n",
    "joblib.dump(model, 'xgb_model.pkl')\n",
    "joblib.dump(scaler, 'scaler.pkl')\n",
    "\n",
    "print(\"Model and Scaler have been saved successfully!\")\n"
   ]
  },
  {
   "cell_type": "code",
   "execution_count": 16,
   "id": "ae1a90cc-d827-485d-ad87-e0ad60d6c643",
   "metadata": {},
   "outputs": [
    {
     "name": "stdout",
     "output_type": "stream",
     "text": [
      "Overwriting app.py\n"
     ]
    }
   ],
   "source": [
    "%%writefile app.py\n",
    "import streamlit as st\n",
    "import numpy as np\n",
    "import joblib\n",
    "import os\n",
    "\n",
    "# -------------------------------\n",
    "# Page Config & Style\n",
    "st.set_page_config(page_title=\"Credit Risk App\", layout=\"centered\")\n",
    "\n",
    "# Custom CSS for stylish divs and layout\n",
    "st.markdown(\"\"\"\n",
    "    <style>\n",
    "        body {\n",
    "            background-color: #f0f2f6;\n",
    "        }\n",
    "\n",
    "        .main-container {\n",
    "            background-color: #ffffff;\n",
    "            padding: 2rem;\n",
    "            border-radius: 20px;\n",
    "            box-shadow: 0px 4px 12px rgba(0,0,0,0.1);\n",
    "            max-width: 900px;\n",
    "            margin: auto;\n",
    "        }\n",
    "\n",
    "        .header {\n",
    "            text-align: center;\n",
    "            padding-bottom: 10px;\n",
    "        }\n",
    "\n",
    "        .stButton>button {\n",
    "            background-color: #0066cc;\n",
    "            color: white;\n",
    "            padding: 10px 20px;\n",
    "            border-radius: 10px;\n",
    "            font-size: 16px;\n",
    "            font-weight: bold;\n",
    "        }\n",
    "\n",
    "        .result-box {\n",
    "            margin-top: 2rem;\n",
    "            padding: 1.5rem;\n",
    "            border-radius: 15px;\n",
    "            font-size: 18px;\n",
    "            text-align: center;\n",
    "        }\n",
    "\n",
    "        .success-box {\n",
    "            background-color: #e0f8e9;\n",
    "            color: #006600;\n",
    "        }\n",
    "\n",
    "        .error-box {\n",
    "            background-color: #fdecea;\n",
    "            color: #990000;\n",
    "        }\n",
    "    </style>\n",
    "\"\"\", unsafe_allow_html=True)\n",
    "\n",
    "# -------------------------------\n",
    "# Load Model and Scaler\n",
    "MODEL_PATH = \"xgb_model.pkl\"\n",
    "SCALER_PATH = \"scaler.pkl\"\n",
    "\n",
    "if not os.path.exists(MODEL_PATH) or not os.path.exists(SCALER_PATH):\n",
    "    st.error(\"❌ Model or Scaler not found. Make sure 'xgb_model.pkl' and 'scaler.pkl' exist.\")\n",
    "    st.stop()\n",
    "\n",
    "model = joblib.load(MODEL_PATH)\n",
    "scaler = joblib.load(SCALER_PATH)\n",
    "\n",
    "# -------------------------------\n",
    "# Main UI Container\n",
    "st.markdown('<div class=\"main-container\">', unsafe_allow_html=True)\n",
    "\n",
    "# Header\n",
    "st.markdown('<div class=\"header\"><h2>💳 Credit Risk Assessment App</h2><p>Evaluate customer credit risk with an ML model.</p></div>', unsafe_allow_html=True)\n",
    "\n",
    "# Input Form\n",
    "with st.form(\"credit_form\"):\n",
    "    col1, col2 = st.columns(2)\n",
    "\n",
    "    with col1:\n",
    "        RevolvingUtilizationOfUnsecuredLines = st.number_input(\"Revolving Utilization\", 0.0, 10.0, 0.5, format=\"%.4f\")\n",
    "        age = st.number_input(\"Age\", 18, 120, 35)\n",
    "        NumberOfTime30_59DaysPastDueNotWorse = st.number_input(\"30-59 Days Past Due\", 0, 98, 0)\n",
    "        DebtRatio = st.number_input(\"Debt Ratio\", 0.0, 10000.0, 100.0, format=\"%.2f\")\n",
    "        MonthlyIncome = st.number_input(\"Monthly Income\", 0.0, 200000.0, 5000.0, format=\"%.2f\")\n",
    "\n",
    "    with col2:\n",
    "        NumberOfOpenCreditLinesAndLoans = st.number_input(\"Open Credit Lines\", 0, 60, 10)\n",
    "        NumberOfTimes90DaysLate = st.number_input(\"90 Days Late\", 0, 98, 0)\n",
    "        NumberRealEstateLoansOrLines = st.number_input(\"Real Estate Loans\", 0, 20, 1)\n",
    "        NumberOfTime60_89DaysPastDueNotWorse = st.number_input(\"60-89 Days Past Due\", 0, 98, 0)\n",
    "        NumberOfDependents = st.number_input(\"Dependents\", 0, 20, 1)\n",
    "\n",
    "    submit = st.form_submit_button(\"📊 Predict Credit Risk\")\n",
    "\n",
    "# -------------------------------\n",
    "# Prediction Result\n",
    "if submit:\n",
    "    try:\n",
    "        input_data = np.array([[\n",
    "            RevolvingUtilizationOfUnsecuredLines, age,\n",
    "            NumberOfTime30_59DaysPastDueNotWorse, DebtRatio,\n",
    "            MonthlyIncome, NumberOfOpenCreditLinesAndLoans,\n",
    "            NumberOfTimes90DaysLate, NumberRealEstateLoansOrLines,\n",
    "            NumberOfTime60_89DaysPastDueNotWorse, NumberOfDependents\n",
    "        ]])\n",
    "\n",
    "        input_scaled = scaler.transform(input_data)\n",
    "        prediction = model.predict(input_scaled)[0]\n",
    "        probability = model.predict_proba(input_scaled)[0][1]\n",
    "\n",
    "        if prediction == 1:\n",
    "            st.markdown(\n",
    "                f'<div class=\"result-box error-box\">🚨 <strong>High Credit Risk Detected!</strong><br>Probability: {probability:.2%}</div>',\n",
    "                unsafe_allow_html=True\n",
    "            )\n",
    "        else:\n",
    "            st.markdown(\n",
    "                f'<div class=\"result-box success-box\">✅ <strong>Low Credit Risk</strong><br>Probability: {probability:.2%}</div>',\n",
    "                unsafe_allow_html=True\n",
    "            )\n",
    "\n",
    "    except Exception as e:\n",
    "        st.exception(f\"Prediction failed due to: {str(e)}\")\n",
    "\n",
    "st.markdown('</div>', unsafe_allow_html=True)  # Close main-container\n"
   ]
  },
  {
   "cell_type": "code",
   "execution_count": null,
   "id": "363366f7-cb05-4018-be02-3ff37fd5862e",
   "metadata": {},
   "outputs": [],
   "source": [
    "!streamlit run app.py"
   ]
  },
  {
   "cell_type": "code",
   "execution_count": null,
   "id": "01b8a5b0-aa79-4760-85f9-3b71d608f9e3",
   "metadata": {},
   "outputs": [],
   "source": []
  }
 ],
 "metadata": {
  "kernelspec": {
   "display_name": "Python 3 (ipykernel)",
   "language": "python",
   "name": "python3"
  },
  "language_info": {
   "codemirror_mode": {
    "name": "ipython",
    "version": 3
   },
   "file_extension": ".py",
   "mimetype": "text/x-python",
   "name": "python",
   "nbconvert_exporter": "python",
   "pygments_lexer": "ipython3",
   "version": "3.12.3"
  }
 },
 "nbformat": 4,
 "nbformat_minor": 5
}
